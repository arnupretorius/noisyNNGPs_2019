{
 "cells": [
  {
   "cell_type": "markdown",
   "metadata": {},
   "source": [
    "### Noise regularised NNGPs on a toy 1d problem"
   ]
  },
  {
   "cell_type": "code",
   "execution_count": 1,
   "metadata": {},
   "outputs": [],
   "source": [
    "import matplotlib.pyplot as plt\n",
    "import numpy as np\n",
    "\n",
    "def create_toy_data(func, n=10, std=1., domain=[0., 1.]):\n",
    "    x = np.linspace(domain[0], domain[1], n)\n",
    "    t = func(x) + np.random.normal(scale=std, size=n)\n",
    "    return x, t\n",
    "\n",
    "def sinusoidal(x):\n",
    "        return np.sin(2 * np.pi * x)"
   ]
  },
  {
   "cell_type": "markdown",
   "metadata": {},
   "source": [
    "### Samples from noisy NNGP prior as a function of the noise"
   ]
  },
  {
   "cell_type": "code",
   "execution_count": 28,
   "metadata": {},
   "outputs": [],
   "source": [
    "import tensorflow as tf\n",
    "import nngp\n",
    "import gpr\n",
    "\n",
    "mu_2 = 1.5\n",
    "num_points = 100\n",
    "x = np.linspace(0, 1, num_points).reshape((100,1))\n",
    "\n",
    "with tf.Session() as sess:\n",
    "    nngp_kernel = nngp.NNGPKernel(depth=20, weight_var=2, bias_var=0.0, \n",
    "                             mu_2=mu_2, nonlin_fn='relu')\n",
    "    input1 = tf.identity(tf.placeholder(tf.float64, [num_points, 1],\n",
    "                         name=\"x_train1\"))\n",
    "    input2 = tf.identity(tf.placeholder(tf.float64, [num_points, 1],\n",
    "                         name=\"x_train2\"))\n",
    "    K = sess.run(nngp_kernel.k_full(input1, input2), feed_dict={input1:x, input2:sinusoidal(x)})"
   ]
  },
  {
   "cell_type": "code",
   "execution_count": 29,
   "metadata": {},
   "outputs": [
    {
     "data": {
      "text/plain": [
       "array([[0.31838171, 0.31838171, 0.31838171, ..., 0.31838171, 0.31838171,\n",
       "        0.31838171],\n",
       "       [0.31838171, 0.31838171, 0.31838171, ..., 0.31838171, 0.31838171,\n",
       "        0.31838171],\n",
       "       [0.31838171, 0.31838171, 0.31838171, ..., 0.31838171, 0.31838171,\n",
       "        0.31838171],\n",
       "       ...,\n",
       "       [0.31838171, 0.31838171, 0.31838171, ..., 0.31838171, 0.31838171,\n",
       "        0.31838171],\n",
       "       [0.31838171, 0.31838171, 0.31838171, ..., 0.31838171, 0.31838171,\n",
       "        0.31838171],\n",
       "       [0.31838171, 0.31838171, 0.31838171, ..., 0.31838171, 0.31838171,\n",
       "        0.31838171]])"
      ]
     },
     "execution_count": 29,
     "metadata": {},
     "output_type": "execute_result"
    }
   ],
   "source": [
    "K"
   ]
  },
  {
   "cell_type": "markdown",
   "metadata": {},
   "source": [
    "### Fitting GP to a set of training points"
   ]
  },
  {
   "cell_type": "code",
   "execution_count": 9,
   "metadata": {},
   "outputs": [
    {
     "data": {
      "text/plain": [
       "[<matplotlib.lines.Line2D at 0x7f10c9545550>]"
      ]
     },
     "execution_count": 9,
     "metadata": {},
     "output_type": "execute_result"
    },
    {
     "data": {
      "image/png": "[encoded data removed]",
      "text/plain": [
       "<Figure size 432x288 with 1 Axes>"
      ]
     },
     "metadata": {
      "needs_background": "light"
     },
     "output_type": "display_data"
    }
   ],
   "source": [
    "x_train, y_train = create_toy_data(sinusoidal, n=7, std=0.1, domain=[0., 0.7])\n",
    "x = np.linspace(0, 1, 100)\n",
    "\n",
    "plt.scatter(x_train, y_train, facecolor=\"none\", edgecolor=\"b\", color=\"blue\", label=\"training\")\n",
    "plt.plot(x, sinusoidal(x), color=\"g\", label=\"sin$(2\\pi x)$\")"
   ]
  },
  {
   "cell_type": "code",
   "execution_count": null,
   "metadata": {},
   "outputs": [],
   "source": [
    "x_train, y_train = create_toy_data(sinusoidal, n=7, std=0.1, domain=[0., 0.7])\n",
    "x = np.linspace(0, 1, 100)\n",
    "\n",
    "model = GaussianProcessRegressor(kernel=RBF(np.array([1., 15.])), beta=100)\n",
    "model.fit(x_train, y_train)\n",
    "\n",
    "y, y_std = model.predict(x, with_error=True)\n",
    "plt.scatter(x_train, y_train, facecolor=\"none\", edgecolor=\"b\", color=\"blue\", label=\"training\")\n",
    "plt.plot(x, sinusoidal(x), color=\"g\", label=\"sin$(2\\pi x)$\")\n",
    "plt.plot(x, y, color=\"r\", label=\"gpr\")\n",
    "plt.fill_between(x, y - y_std, y + y_std, alpha=0.5, color=\"pink\", label=\"std\")\n",
    "plt.show()"
   ]
  }
 ],
 "metadata": {
  "kernelspec": {
   "display_name": "Python 2",
   "language": "python",
   "name": "python2"
  },
  "language_info": {
   "codemirror_mode": {
    "name": "ipython",
    "version": 2
   },
   "file_extension": ".py",
   "mimetype": "text/x-python",
   "name": "python",
   "nbconvert_exporter": "python",
   "pygments_lexer": "ipython2",
   "version": "2.7.12"
  }
 },
 "nbformat": 4,
 "nbformat_minor": 2
}
