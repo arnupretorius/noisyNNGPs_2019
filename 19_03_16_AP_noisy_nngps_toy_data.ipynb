{
 "cells": [
  {
   "cell_type": "markdown",
   "metadata": {},
   "source": [
    "### Noise regularised NNGPs on a toy 1d problem"
   ]
  },
  {
   "cell_type": "code",
   "execution_count": 1,
   "metadata": {
    "collapsed": true
   },
   "outputs": [],
   "source": [
    "import matplotlib.pyplot as plt\n",
    "import seaborn as sns\n",
    "import numpy as np\n",
    "\n",
    "import matplotlib as mpl\n",
    "mpl.rcParams['font.size'] = 100\n",
    "sns.set_context(\"paper\", font_scale=2)\n",
    "plt.rcParams['pdf.fonttype'] = 42\n",
    "plt.rcParams['text.usetex'] = True\n",
    "plt.rcParams['text.latex.unicode'] = True\n",
    "plt.rcParams['image.cmap'] = 'viridis'\n",
    "\n",
    "def create_toy_data(func, n=10, std=1., domain=[0., 1.]):\n",
    "    x = np.linspace(domain[0], domain[1], n)\n",
    "    t = func(x) + np.random.normal(scale=std, size=n)\n",
    "    return x, t\n",
    "\n",
    "def sinusoidal(x):\n",
    "        return np.sin(2 * np.pi * x)"
   ]
  },
  {
   "cell_type": "code",
   "execution_count": 2,
   "metadata": {
    "collapsed": true
   },
   "outputs": [],
   "source": [
    "def relu_kernel(x, y, depth=2, weight_var=2.0, bias_var=0.001, mu_2=1.0, same=False):\n",
    "    \n",
    "    if same:\n",
    "        k_aa = 0.5*weight_var*x*x*mu_2 + bias_var\n",
    "        for _ in range(depth):\n",
    "            k_aa = 0.5*weight_var*k_aa*mu_2 + bias_var\n",
    "        return k_aa\n",
    "    else:\n",
    "        k_ab = 0.5*weight_var*x*y + bias_var\n",
    "        #print(k_ab)\n",
    "        k_aa = 0.5*weight_var*x*x*mu_2 + bias_var\n",
    "        #print(k_aa)\n",
    "        k_bb = 0.5*weight_var*y*y*mu_2 + bias_var\n",
    "        #print(k_bb)\n",
    "        c_ab = np.round(k_ab/np.sqrt(k_aa*k_bb), 8)\n",
    "        #c_aa = k_aa/np.sqrt(k_aa*k_aa)\n",
    "        #c_bb = k_bb/np.sqrt(k_bb*k_bb)\n",
    "        theta_ab = np.arccos(c_ab)\n",
    "        #print(theta_ab)\n",
    "        #theta_aa = np.arccos(c_aa)\n",
    "        #theta_bb = np.arccos(c_bb)\n",
    "        for _ in range(depth):\n",
    "            k_ab = (weight_var/(2*np.pi))*np.sqrt(k_aa*k_bb)*(np.sin(theta_ab) + (np.pi - theta_ab)*np.cos(theta_ab)) + bias_var\n",
    "            k_aa = 0.5*weight_var*k_aa*mu_2 + bias_var\n",
    "            k_bb = 0.5*weight_var*k_bb*mu_2 + bias_var\n",
    "            #k_aa = (weight_var/(2*np.pi))*np.sqrt(k_aa*k_aa)*(np.sin(theta_aa) + (np.pi - theta_aa)*np.cos(theta_aa))*mu_2 + bias_var\n",
    "            #k_bb = (weight_var/(2*np.pi))*np.sqrt(k_bb*k_bb)*(np.sin(theta_bb) + (np.pi - theta_bb)*np.cos(theta_bb))*mu_2 + bias_var\n",
    "            #print(k_ab)\n",
    "            #print(k_aa)\n",
    "            c_ab = np.round(k_ab/(np.sqrt(k_aa)*np.sqrt(k_bb)), 8)\n",
    "            #c_aa = np.round(k_aa/(np.sqrt(k_aa)*np.sqrt(k_aa)), 8)\n",
    "            #c_bb = np.round(k_bb/(np.sqrt(k_bb)*np.sqrt(k_bb)), 8)\n",
    "            #print(c_ab)\n",
    "            theta_ab = np.arccos(c_ab)\n",
    "            #theta_aa = np.arccos(c_aa)\n",
    "            #theta_bb = np.arccos(c_bb)\n",
    "        return k_ab"
   ]
  },
  {
   "cell_type": "markdown",
   "metadata": {},
   "source": [
    "### Samples from noisy NNGP prior as a function of the noise"
   ]
  },
  {
   "cell_type": "code",
   "execution_count": 3,
   "metadata": {
    "collapsed": true
   },
   "outputs": [],
   "source": [
    "num_points = 100\n",
    "mu2 = 1.0\n",
    "w = 2/mu2\n",
    "b = 0.05 # 0.000001\n",
    "d = 20\n",
    "x = np.linspace(-3, 3, num_points)\n",
    "K1 = np.zeros((len(x), len(x)))\n",
    "for i in range(len(x)):\n",
    "    for j in range(len(x)):\n",
    "        if i < j:\n",
    "            K1[i,j] = relu_kernel(x[i], x[j], depth=d, weight_var=w, bias_var=b, mu_2=mu2)\n",
    "            K1[j,i] = K1[i,j]\n",
    "        if i == j:\n",
    "            K1[i,i] = relu_kernel(x[i], x[i], depth=d, weight_var=w, bias_var=b, mu_2=mu2, same=True)\n",
    "        \n",
    "\n",
    "mu2 = 1.001\n",
    "w = 2/mu2\n",
    "K2 = np.zeros((len(x), len(x)))\n",
    "for i in range(len(x)):\n",
    "    for j in range(len(x)):\n",
    "        if i < j:\n",
    "            K2[i,j] = relu_kernel(x[i], x[j], depth=d, weight_var=w, bias_var=b, mu_2=mu2)\n",
    "            K2[j,i] = K2[i,j]\n",
    "        if i == j:\n",
    "            K2[i,i] = relu_kernel(x[i], x[i], depth=d, weight_var=w, bias_var=b, mu_2=mu2, same=True)\n",
    "    \n",
    "mu2 = 2.0\n",
    "w = 2/mu2\n",
    "K3 = np.zeros((len(x), len(x)))\n",
    "for i in range(len(x)):\n",
    "    for j in range(len(x)):\n",
    "        if i < j:\n",
    "            K3[i,j] = relu_kernel(x[i], x[j], depth=d, weight_var=w, bias_var=b, mu_2=mu2)\n",
    "            K3[j,i] = K3[i,j]\n",
    "        if i == j:\n",
    "            K3[i,i] = relu_kernel(x[i], x[i], depth=d, weight_var=w, bias_var=b, mu_2=mu2, same=True)"
   ]
  },
  {
   "cell_type": "code",
   "execution_count": 6,
   "metadata": {},
   "outputs": [],
   "source": [
    "import seaborn as sns\n",
    "\n",
    "def normalize(x, kmin, kmax):\n",
    "    return (x-kmin)/(kmax-kmin)\n",
    "\n",
    "np.random.seed(2)\n",
    "\n",
    "fig, [[ax1, ax2, ax3],[ax4, ax5, ax6], [ax7, ax8, ax9]] = plt.subplots(3, 3, figsize=(18, 12))\n",
    "top = [ax1, ax2, ax3]\n",
    "bottom = [ax4, ax5, ax6]\n",
    "kernels = [np.round(K1, 8), np.round(K2, 8), np.round(K3, 8)]\n",
    "k_max = np.max([np.max(x) for x in kernels])\n",
    "k_min = np.min([np.min(x) for x in kernels])\n",
    "#normalized_kernels = [normalize(x, k_min, k_max) for x in kernels]\n",
    "x = np.linspace(-3, 3, num_points)\n",
    "num_samples = 5\n",
    "count = 0\n",
    "for K in kernels:\n",
    "    for _ in range(num_samples):\n",
    "        y = np.random.multivariate_normal(np.zeros((len(x),)), K)\n",
    "        top[count].plot(x, y)\n",
    "        plt.ylim(-6, 6)\n",
    "    sns.heatmap(K, ax=bottom[count], rasterized=True, vmin=k_min, vmax=k_max, cbar=False)\n",
    "    bottom[count].set_xticks([],[])\n",
    "    bottom[count].set_yticks([],[])\n",
    "    count += 1\n",
    "\n",
    "ax1.set_title(r'$\\mu_2 = 1.0$, depth $L=20$')\n",
    "ax1.set_xlabel('1d input x')\n",
    "ax1.set_ylabel(r'prior samples $y$')\n",
    "#ax1.set_ylim(-5, 5)\n",
    "ax2.set_title(r'$\\mu_2 = 1.001$, depth $L=20$')\n",
    "ax2.set_xlabel('x')\n",
    "#ax2.set_ylim(-5, 5)\n",
    "ax3.set_title(r'$\\mu_2 = 2.0$, depth $L=20$')\n",
    "ax3.set_xlabel('x')\n",
    "#ax3.set_ylim(-5, 5)\n",
    "ax4.set_xlabel(r'Covariance $\\Phi^L$')\n",
    "ax5.set_xlabel(r'$\\Phi^L$')\n",
    "ax6.set_xlabel(r'$\\Phi^L$')\n",
    "fig.text(0.02, 0.97, \"(a)\", fontsize=20)\n",
    "fig.text(0.35, 0.97, \"(b)\", fontsize=20)\n",
    "fig.text(0.69, 0.97, \"(c)\", fontsize=20)\n",
    "fig.text(0.02, 0.65, \"(d)\", fontsize=20)\n",
    "fig.text(0.35, 0.65, \"(e)\", fontsize=20)\n",
    "fig.text(0.69, 0.65, \"(f)\", fontsize=20)\n",
    "\n",
    "np.random.seed(1)\n",
    "x_train, y_train = create_toy_data(sinusoidal, n=4, std=0.1, domain=[-0.5, 0.2])\n",
    "\n",
    "def plot_nngp_fit(ax, x_train, y_train, d, mu2, sig_b, offset): \n",
    "\n",
    "    N = len(x_train)\n",
    "    x = np.linspace(-0.5, 0.5, 100)\n",
    "\n",
    "#d = 2\n",
    "#mu2 = 1.0\n",
    "#sig_b = 0.5\n",
    "#offset = 0\n",
    "    sig_w = 2/mu2 + offset\n",
    "\n",
    "    # Compute kernel\n",
    "    K = np.zeros((N, N))\n",
    "#     for i,x_i in enumerate(x_train):\n",
    "#         for j ,x_j in enumerate(x_train):\n",
    "#             K[i,j] = relu_kernel(x_i, x_j, depth=d, weight_var=sig_w, bias_var=sig_b, mu_2=mu2)\n",
    "    for i in range(len(x_train)):\n",
    "        for j in range(len(x_train)):\n",
    "            if i < j:\n",
    "                #print(x_train[i])\n",
    "                #print(x_train[j])\n",
    "                K[i,j] = relu_kernel(x_train[i], x_train[j], depth=d, weight_var=sig_w, bias_var=sig_b, mu_2=mu2)\n",
    "                #print(K[i,j])\n",
    "                K[j,i] = K[i,j]\n",
    "            if i == j:\n",
    "                K[i,i] = relu_kernel(x_train[i], x_train[j], depth=d, \n",
    "                                     weight_var=sig_w, bias_var=sig_b, mu_2=mu2, same=True)\n",
    "\n",
    "    \n",
    "    noise_var = 0.001\n",
    "    covariance = K + noise_var*np.ones((N, N))\n",
    "    inv_cov = np.linalg.inv(covariance)\n",
    "    t = y_train + noise_var\n",
    "\n",
    "    # make predictions\n",
    "    k = np.zeros((N,))\n",
    "    y = np.zeros(len(x))\n",
    "    y_std = np.zeros(len(x))\n",
    "    for i, p in enumerate(x):\n",
    "        c = relu_kernel(p, p, depth=d, weight_var=sig_w, bias_var=sig_b, mu_2=mu2, same=True)\n",
    "        for j, x_t in enumerate(x_train):\n",
    "            k[j] = relu_kernel(p, x_t, depth=d, weight_var=sig_w, bias_var=sig_b, mu_2=mu2)\n",
    "        y[i] = np.dot(np.transpose(k), inv_cov).dot(t)\n",
    "        y_std[i] = np.sqrt(c - np.transpose(k).dot(inv_cov).dot(k))\n",
    "    \n",
    "    \n",
    "    #plt.subplot(1, 3, 3)\n",
    "    ax.scatter(x_train, y_train, edgecolor=\"b\", color=\"steelblue\", label=\"training\", s=100)\n",
    "    ax.plot(x, sinusoidal(x), color=\"g\", label=\"sin$(2\\pi x)$\")\n",
    "    ax.plot(x, y, color=\"r\", label=\"gpr\")\n",
    "    ax.fill_between(x, y - y_std, y + y_std, alpha=0.5, color=\"pink\", label=\"std\")\n",
    "\n",
    "# parameter settings\n",
    "d=20\n",
    "b=0.05 #0.005\n",
    "#fig, [ax1, ax2, ax3] = plt.subplots(1, 3, figsize=(20, 4))\n",
    "\n",
    "\n",
    "plot_nngp_fit(ax7, x_train, y_train, d=d, mu2=1.0, sig_b=b, offset=0)\n",
    "plot_nngp_fit(ax8, x_train, y_train, d=d, mu2=1.001, sig_b=b, offset=0)\n",
    "plot_nngp_fit(ax9, x_train, y_train, d=d, mu2=2.0, sig_b=b, offset=0)\n",
    "ax7.set_xlabel('x')\n",
    "ax8.set_xlabel('x')\n",
    "ax9.set_xlabel('x')\n",
    "ax7.set_ylabel('y')\n",
    "#ax7.set_ylim(-1.1, 1.1)\n",
    "#ax8.set_ylim(-1.1, 1.1)\n",
    "ax9.set_ylim(-1.2, 1.2)\n",
    "\n",
    "fig.text(0.02, 0.33, \"(g)\", fontsize=20)\n",
    "fig.text(0.35, 0.33, \"(h)\", fontsize=20)\n",
    "fig.text(0.68, 0.33, \"(i)\", fontsize=20)\n",
    "\n",
    "plt.gcf().tight_layout()\n",
    "#plt.show()\n",
    "#plt.savefig('nngpfit.png', dpi=200)\n",
    "\n",
    "#plt.gcf().tight_layout()\n",
    "#plt.show()\n",
    "plt.savefig('fig3.png', dpi=80)"
   ]
  },
  {
   "cell_type": "markdown",
   "metadata": {},
   "source": [
    "### Fitting GP to a set of training points"
   ]
  },
  {
   "cell_type": "code",
   "execution_count": 5,
   "metadata": {},
   "outputs": [
    {
     "data": {
      "image/png": "[encoded data removed]",
      "text/plain": [
       "<Figure size 432x288 with 1 Axes>"
      ]
     },
     "metadata": {
      "needs_background": "light"
     },
     "output_type": "display_data"
    }
   ],
   "source": [
    "x_train, y_train = create_toy_data(sinusoidal, n=7, std=0.1, domain=[0., 0.7])\n",
    "x = np.linspace(0, 1, 100)\n",
    "\n",
    "plt.scatter(x_train, y_train, facecolor=\"none\", edgecolor=\"b\", color=\"blue\", label=\"training\")\n",
    "plt.plot(x, sinusoidal(x), color=\"g\", label=\"sin$(2\\pi x)$\")\n",
    "plt.show()"
   ]
  },
  {
   "cell_type": "code",
   "execution_count": 6,
   "metadata": {
    "collapsed": true
   },
   "outputs": [],
   "source": [
    "from ipywidgets import interact, interactive, fixed, interact_manual\n",
    "import ipywidgets as widgets"
   ]
  },
  {
   "cell_type": "code",
   "execution_count": 7,
   "metadata": {
    "collapsed": true
   },
   "outputs": [],
   "source": [
    "x_train, y_train = create_toy_data(sinusoidal, n=4, std=0.1, domain=[-3.0, 3.0])"
   ]
  },
  {
   "cell_type": "code",
   "execution_count": 23,
   "metadata": {
    "collapsed": true
   },
   "outputs": [],
   "source": [
    "def fit_nngps(n, end, d, mu2, sig_b, offset):\n",
    "    \n",
    "    fig, [ax1, ax2, ax3] = plt.subplots(1, 3, figsize=(16, 4))\n",
    "    \n",
    "    x_train, y_train = create_toy_data(sinusoidal, n=n, std=0.1, domain=[0.1, end])\n",
    "\n",
    "    N = len(x_train)\n",
    "    x = np.linspace(0, 1, 100)\n",
    "\n",
    "#d = 2\n",
    "#mu2 = 1.0\n",
    "#sig_b = 0.5\n",
    "#offset = 0\n",
    "    sig_w = 2/mu2 + offset\n",
    "\n",
    "    # Compute kernel\n",
    "    K = np.zeros((N, N))\n",
    "#     for i,x_i in enumerate(x_train):\n",
    "#         for j ,x_j in enumerate(x_train):\n",
    "#             K[i,j] = relu_kernel(x_i, x_j, depth=d, weight_var=sig_w, bias_var=sig_b, mu_2=mu2)\n",
    "    for i in range(len(x_train)):\n",
    "        for j in range(len(x_train)):\n",
    "            if i < j:\n",
    "                #print(x_train[i])\n",
    "                #print(x_train[j])\n",
    "                K[i,j] = relu_kernel(x_train[i], x_train[j], depth=d, weight_var=sig_w, bias_var=sig_b, mu_2=mu2)\n",
    "                #print(K[i,j])\n",
    "                K[j,i] = K[i,j]\n",
    "            if i == j:\n",
    "                K[i,i] = relu_kernel(x_train[i], x_train[j], depth=d, \n",
    "                                     weight_var=sig_w, bias_var=sig_b, mu_2=mu2, same=True)\n",
    "    \n",
    "    #plt.subplot(1, 3, 1)\n",
    "    ax1.imshow(K, cmap='hot')\n",
    "    \n",
    "    #print(K)\n",
    "    # samples from the prior\n",
    "    #plt.subplot(1, 3, 2)\n",
    "    for _ in range(10):\n",
    "        y = np.random.multivariate_normal(np.zeros((len(x_train),)), K)\n",
    "        ax2.plot(x_train, y, c='blue')\n",
    "    \n",
    "    noise_var = 0.5\n",
    "    covariance = K + noise_var*np.ones((N, N))\n",
    "    inv_cov = np.linalg.inv(covariance)\n",
    "    t = y_train + noise_var\n",
    "\n",
    "    # make predictions\n",
    "    k = np.zeros((N,))\n",
    "    y = np.zeros(len(x))\n",
    "    y_std = np.zeros(len(x))\n",
    "    for i, p in enumerate(x):\n",
    "        c = relu_kernel(p, p, depth=d, weight_var=sig_w, bias_var=sig_b, mu_2=mu2, same=True)\n",
    "        for j, x_t in enumerate(x_train):\n",
    "            k[j] = relu_kernel(p, x_t, depth=d, weight_var=sig_w, bias_var=sig_b, mu_2=mu2)\n",
    "        y[i] = np.dot(np.transpose(k), inv_cov).dot(t)\n",
    "        y_std[i] = np.sqrt(c - np.transpose(k).dot(inv_cov).dot(k))\n",
    "    \n",
    "    \n",
    "    #plt.subplot(1, 3, 3)\n",
    "    ax3.scatter(x_train, y_train, facecolor=\"none\", edgecolor=\"b\", color=\"blue\", label=\"training\")\n",
    "    ax3.plot(x, sinusoidal(x), color=\"g\", label=\"sin$(2\\pi x)$\")\n",
    "    ax3.plot(x, y, color=\"r\", label=\"gpr\")\n",
    "    ax3.fill_between(x, y - y_std, y + y_std, alpha=0.5, color=\"pink\", label=\"std\")\n",
    "    plt.show()"
   ]
  },
  {
   "cell_type": "code",
   "execution_count": 24,
   "metadata": {},
   "outputs": [
    {
     "data": {
      "application/vnd.jupyter.widget-view+json": {
       "model_id": "8ef5ae8ab4494f68845c5308921c83ca",
       "version_major": 2,
       "version_minor": 0
      },
      "text/plain": [
       "aW50ZXJhY3RpdmUoY2hpbGRyZW49KEludFNsaWRlcih2YWx1ZT01LCBkZXNjcmlwdGlvbj11J24nLCBtYXg9MTAsIG1pbj0xKSwgRmxvYXRTbGlkZXIodmFsdWU9MC43NSwgZGVzY3JpcHRpb27igKY=\n"
      ]
     },
     "metadata": {},
     "output_type": "display_data"
    }
   ],
   "source": [
    "interact(fit_nngps, n=(1,10), end=(0.5, 1.0), d=(2, 20), mu2=(1.0, 2.0), sig_b=(0.0,1.0), offset=(-2.0, 2.0));"
   ]
  },
  {
   "cell_type": "code",
   "execution_count": 10,
   "metadata": {},
   "outputs": [
    {
     "data": {
      "image/png": "[encoded data removed]",
      "text/plain": [
       "<Figure size 1440x288 with 3 Axes>"
      ]
     },
     "metadata": {
      "needs_background": "light"
     },
     "output_type": "display_data"
    }
   ],
   "source": []
  },
  {
   "cell_type": "code",
   "execution_count": null,
   "metadata": {
    "collapsed": true
   },
   "outputs": [],
   "source": []
  }
 ],
 "metadata": {
  "kernelspec": {
   "display_name": "Python 3",
   "language": "python",
   "name": "python3"
  },
  "language_info": {
   "codemirror_mode": {
    "name": "ipython",
    "version": 3
   },
   "file_extension": ".py",
   "mimetype": "text/x-python",
   "name": "python",
   "nbconvert_exporter": "python",
   "pygments_lexer": "ipython3",
   "version": "3.6.3"
  }
 },
 "nbformat": 4,
 "nbformat_minor": 2
}
